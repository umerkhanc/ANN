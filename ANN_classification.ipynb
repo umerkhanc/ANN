{
 "cells": [
  {
   "cell_type": "markdown",
   "id": "e303e58e",
   "metadata": {},
   "source": [
    "# Artificial Neural Network for classification\n"
   ]
  },
  {
   "cell_type": "code",
   "execution_count": 4,
   "id": "2d91d7a6",
   "metadata": {},
   "outputs": [],
   "source": [
    "#importing required libraries"
   ]
  },
  {
   "cell_type": "code",
   "execution_count": 7,
   "id": "3683b96d",
   "metadata": {},
   "outputs": [],
   "source": [
    "import numpy as np\n",
    "import pandas as pd\n",
    "import tensorflow as tf\n",
    "from sklearn.compose import ColumnTransformer\n",
    "from sklearn.preprocessing import OneHotEncoder\n",
    "from sklearn.preprocessing import LabelEncoder\n",
    "from sklearn.model_selection import train_test_split\n",
    "from sklearn.preprocessing import StandardScaler\n",
    "from sklearn.metrics import confusion_matrix, accuracy_score\n",
    "\n"
   ]
  },
  {
   "cell_type": "code",
   "execution_count": 5,
   "id": "f2152237",
   "metadata": {},
   "outputs": [],
   "source": [
    "# Data Pre-processing ----------------------#\n",
    "# Checking the tensorflow version"
   ]
  },
  {
   "cell_type": "code",
   "execution_count": 9,
   "id": "24097eb1",
   "metadata": {},
   "outputs": [
    {
     "name": "stdout",
     "output_type": "stream",
     "text": [
      "2.9.1\n"
     ]
    }
   ],
   "source": [
    "print(tf.__version__)"
   ]
  },
  {
   "cell_type": "code",
   "execution_count": 11,
   "id": "f10e59b1",
   "metadata": {},
   "outputs": [],
   "source": [
    "# Loading the data"
   ]
  },
  {
   "cell_type": "code",
   "execution_count": 12,
   "id": "cd8e95c9",
   "metadata": {},
   "outputs": [],
   "source": [
    "bank_data = pd.read_csv(\"Artificial_Neural_Network_Case_Study_data.csv\")\n"
   ]
  },
  {
   "cell_type": "code",
   "execution_count": 13,
   "id": "b15cd3a5",
   "metadata": {},
   "outputs": [],
   "source": [
    "# Taking  all rows and all columns in the data except the last column as X (feature matrix)\n",
    "#the row numbers and customer id's are not necessary for the modelling so we get rid of and start with credit score"
   ]
  },
  {
   "cell_type": "code",
   "execution_count": 14,
   "id": "4e5b2bcd",
   "metadata": {},
   "outputs": [
    {
     "name": "stdout",
     "output_type": "stream",
     "text": [
      "Independent variables are: [[619 'France' 'Female' ... 1 1 101348.88]\n",
      " [608 'Spain' 'Female' ... 0 1 112542.58]\n",
      " [502 'France' 'Female' ... 1 0 113931.57]\n",
      " ...\n",
      " [709 'France' 'Female' ... 0 1 42085.58]\n",
      " [772 'Germany' 'Male' ... 1 0 92888.52]\n",
      " [792 'France' 'Female' ... 1 0 38190.78]]\n"
     ]
    }
   ],
   "source": [
    "X = bank_data.iloc[:,3:-1].values\n",
    "print(\"Independent variables are:\", X)"
   ]
  },
  {
   "cell_type": "code",
   "execution_count": 15,
   "id": "2f6e7c2b",
   "metadata": {},
   "outputs": [],
   "source": [
    "#taking all rows but only the last column as Y(dependent variable)\n"
   ]
  },
  {
   "cell_type": "code",
   "execution_count": 16,
   "id": "491e07cf",
   "metadata": {},
   "outputs": [
    {
     "name": "stdout",
     "output_type": "stream",
     "text": [
      "Dependent variable is: [1 0 1 ... 1 1 0]\n"
     ]
    }
   ],
   "source": [
    "y = bank_data.iloc[:, -1].values\n",
    "print(\"Dependent variable is:\", y)"
   ]
  },
  {
   "cell_type": "code",
   "execution_count": 17,
   "id": "2849f53b",
   "metadata": {},
   "outputs": [],
   "source": [
    "# Transforming the gender variable, labels are chosen randomly"
   ]
  },
  {
   "cell_type": "code",
   "execution_count": 18,
   "id": "5378a647",
   "metadata": {},
   "outputs": [
    {
     "name": "stdout",
     "output_type": "stream",
     "text": [
      "[[619 'France' 0 ... 1 1 101348.88]\n",
      " [608 'Spain' 0 ... 0 1 112542.58]\n",
      " [502 'France' 0 ... 1 0 113931.57]\n",
      " ...\n",
      " [709 'France' 0 ... 0 1 42085.58]\n",
      " [772 'Germany' 1 ... 1 0 92888.52]\n",
      " [792 'France' 0 ... 1 0 38190.78]]\n"
     ]
    }
   ],
   "source": [
    "le = LabelEncoder()\n",
    "X[:,2] = le.fit_transform(X[:,2])\n",
    "print(X)"
   ]
  },
  {
   "cell_type": "code",
   "execution_count": 19,
   "id": "c1a66d1a",
   "metadata": {},
   "outputs": [],
   "source": [
    "# Transforming the geography column variable, labels are chosen randomly, the ct asks for argument [1] the index of the target vb\n"
   ]
  },
  {
   "cell_type": "code",
   "execution_count": 20,
   "id": "ac8c3a55",
   "metadata": {},
   "outputs": [
    {
     "name": "stdout",
     "output_type": "stream",
     "text": [
      "[[1.0 0.0 0.0 ... 1 1 101348.88]\n",
      " [0.0 0.0 1.0 ... 0 1 112542.58]\n",
      " [1.0 0.0 0.0 ... 1 0 113931.57]\n",
      " ...\n",
      " [1.0 0.0 0.0 ... 0 1 42085.58]\n",
      " [0.0 1.0 0.0 ... 1 0 92888.52]\n",
      " [1.0 0.0 0.0 ... 1 0 38190.78]]\n"
     ]
    }
   ],
   "source": [
    "ct = ColumnTransformer(transformers = [('encoder', OneHotEncoder(),[1])], remainder = 'passthrough')\n",
    "X = np.array(ct.fit_transform(X))\n",
    "print(X)"
   ]
  },
  {
   "cell_type": "code",
   "execution_count": 21,
   "id": "ad203b32",
   "metadata": {},
   "outputs": [],
   "source": [
    "# Splitting the data into train and test"
   ]
  },
  {
   "cell_type": "code",
   "execution_count": 22,
   "id": "c316775b",
   "metadata": {},
   "outputs": [],
   "source": [
    "X_train, X_test, y_train, y_test = train_test_split(X, y, test_size = 0.2, random_state = 0)\n"
   ]
  },
  {
   "cell_type": "code",
   "execution_count": 23,
   "id": "0f8f6b34",
   "metadata": {},
   "outputs": [],
   "source": [
    "#printing the dimensions of each of those snapshots to see amount of rows and columns i each of them\n"
   ]
  },
  {
   "cell_type": "code",
   "execution_count": 24,
   "id": "2c613d0a",
   "metadata": {},
   "outputs": [
    {
     "name": "stdout",
     "output_type": "stream",
     "text": [
      "(8000, 12) (2000, 12)\n",
      "(8000,) (2000,)\n"
     ]
    }
   ],
   "source": [
    "print(X_train.shape, X_test.shape)\n",
    "print(y_train.shape, y_test.shape)"
   ]
  },
  {
   "cell_type": "code",
   "execution_count": 25,
   "id": "ae5f3a06",
   "metadata": {},
   "outputs": [],
   "source": [
    "# Data Scaling/normalization of the features that will go to the NN\n"
   ]
  },
  {
   "cell_type": "code",
   "execution_count": 26,
   "id": "9d6e6295",
   "metadata": {},
   "outputs": [],
   "source": [
    "sc = StandardScaler()\n",
    "X_train = sc.fit_transform(X_train)\n",
    "X_test = sc.transform(X_test)\n"
   ]
  },
  {
   "cell_type": "markdown",
   "id": "772a983b",
   "metadata": {},
   "source": [
    "# Building the model"
   ]
  },
  {
   "cell_type": "code",
   "execution_count": 27,
   "id": "69a01e30",
   "metadata": {},
   "outputs": [],
   "source": [
    "# Initializing the ANN by calling the Sequential class fromm keras of Tensorflow\n"
   ]
  },
  {
   "cell_type": "code",
   "execution_count": 28,
   "id": "b228031c",
   "metadata": {},
   "outputs": [],
   "source": [
    "ann = tf.keras.models.Sequential()"
   ]
  },
  {
   "cell_type": "code",
   "execution_count": 29,
   "id": "6c968b12",
   "metadata": {},
   "outputs": [],
   "source": [
    "# Adding \"fully connected\" INPUT layer to the Sequential ANN by calling Dense class\n",
    "#----------------------------------------------------------------------------------\n",
    "# Number of Units = 6 and Activation Function = Rectifier"
   ]
  },
  {
   "cell_type": "code",
   "execution_count": 30,
   "id": "402daa18",
   "metadata": {},
   "outputs": [],
   "source": [
    "ann.add(tf.keras.layers.Dense(units = 6, activation = 'relu'))\n"
   ]
  },
  {
   "cell_type": "code",
   "execution_count": 31,
   "id": "2a9916de",
   "metadata": {},
   "outputs": [],
   "source": [
    "# Adding \"fully connected\" SECOND layer to the Sequential AMM by calling Dense class\n",
    "#----------------------------------------------------------------------------------\n",
    "# Number of Units = 6 and Activation Function = Rectifier"
   ]
  },
  {
   "cell_type": "code",
   "execution_count": 32,
   "id": "e295b430",
   "metadata": {},
   "outputs": [],
   "source": [
    "ann.add(tf.keras.layers.Dense(units = 6, activation = 'relu'))\n",
    "\n"
   ]
  },
  {
   "cell_type": "code",
   "execution_count": 33,
   "id": "2311aa5f",
   "metadata": {},
   "outputs": [],
   "source": [
    "# Adding \"fully connected\" OUTPUT layer to the Sequential ANN by calling Dense class\n",
    "#----------------------------------------------------------------------------------\n",
    "# Number of Units = 1 and Activation Function = Sigmoid"
   ]
  },
  {
   "cell_type": "code",
   "execution_count": 34,
   "id": "339f765d",
   "metadata": {},
   "outputs": [],
   "source": [
    "ann.add(tf.keras.layers.Dense(units = 1, activation = 'sigmoid'))\n"
   ]
  },
  {
   "cell_type": "markdown",
   "id": "97c09221",
   "metadata": {},
   "source": [
    "# Training the model"
   ]
  },
  {
   "cell_type": "code",
   "execution_count": 35,
   "id": "2aca0102",
   "metadata": {},
   "outputs": [],
   "source": [
    "# Compiling the ANN\n",
    "# Type of Optimizer = Adam Optimizer, Loss Function =  crossentropy for binary dependent variable, and Optimization is done w.r.t. accuracy\n"
   ]
  },
  {
   "cell_type": "code",
   "execution_count": 36,
   "id": "96b8cf7a",
   "metadata": {},
   "outputs": [],
   "source": [
    "ann.compile(optimizer = 'adam', loss = 'binary_crossentropy', metrics = ['accuracy'])\n"
   ]
  },
  {
   "cell_type": "code",
   "execution_count": 37,
   "id": "cf3d125e",
   "metadata": {},
   "outputs": [],
   "source": [
    "# Training the ANN model on training set  (fit method always the same)\n",
    "# batch_size = 32, the default value, number of epochs  = 100\n"
   ]
  },
  {
   "cell_type": "code",
   "execution_count": null,
   "id": "d86697fd",
   "metadata": {},
   "outputs": [
    {
     "name": "stdout",
     "output_type": "stream",
     "text": [
      "Epoch 1/100\n",
      "250/250 [==============================] - 1s 4ms/step - loss: 0.3921 - accuracy: 0.8370\n",
      "Epoch 2/100\n",
      "250/250 [==============================] - 1s 4ms/step - loss: 0.3920 - accuracy: 0.8381\n",
      "Epoch 3/100\n",
      "250/250 [==============================] - 1s 4ms/step - loss: 0.3923 - accuracy: 0.8381\n",
      "Epoch 4/100\n",
      "250/250 [==============================] - 1s 3ms/step - loss: 0.3923 - accuracy: 0.8378\n",
      "Epoch 5/100\n",
      "250/250 [==============================] - 1s 3ms/step - loss: 0.3923 - accuracy: 0.8370\n",
      "Epoch 6/100\n",
      "250/250 [==============================] - 1s 3ms/step - loss: 0.3921 - accuracy: 0.8384\n",
      "Epoch 7/100\n",
      "250/250 [==============================] - 1s 3ms/step - loss: 0.3921 - accuracy: 0.8361\n",
      "Epoch 8/100\n",
      "250/250 [==============================] - 1s 3ms/step - loss: 0.3919 - accuracy: 0.8374\n",
      "Epoch 9/100\n",
      "250/250 [==============================] - 1s 4ms/step - loss: 0.3919 - accuracy: 0.8374\n",
      "Epoch 10/100\n",
      "250/250 [==============================] - 1s 4ms/step - loss: 0.3920 - accuracy: 0.8374\n",
      "Epoch 11/100\n",
      "250/250 [==============================] - 1s 3ms/step - loss: 0.3921 - accuracy: 0.8375\n",
      "Epoch 12/100\n",
      "250/250 [==============================] - 1s 4ms/step - loss: 0.3918 - accuracy: 0.8375\n",
      "Epoch 13/100\n",
      "250/250 [==============================] - 1s 4ms/step - loss: 0.3919 - accuracy: 0.8375\n",
      "Epoch 14/100\n",
      "250/250 [==============================] - 1s 4ms/step - loss: 0.3921 - accuracy: 0.8390\n",
      "Epoch 15/100\n",
      "250/250 [==============================] - 1s 3ms/step - loss: 0.3920 - accuracy: 0.8386\n",
      "Epoch 16/100\n",
      "250/250 [==============================] - 1s 3ms/step - loss: 0.3921 - accuracy: 0.8374\n",
      "Epoch 17/100\n",
      "250/250 [==============================] - 1s 3ms/step - loss: 0.3921 - accuracy: 0.8365\n",
      "Epoch 18/100\n",
      "250/250 [==============================] - 1s 3ms/step - loss: 0.3920 - accuracy: 0.8370\n",
      "Epoch 19/100\n",
      "250/250 [==============================] - 1s 3ms/step - loss: 0.3921 - accuracy: 0.8381\n",
      "Epoch 20/100\n",
      "250/250 [==============================] - 1s 3ms/step - loss: 0.3919 - accuracy: 0.8391\n",
      "Epoch 21/100\n",
      "250/250 [==============================] - 1s 3ms/step - loss: 0.3919 - accuracy: 0.8380\n",
      "Epoch 22/100\n",
      "250/250 [==============================] - 1s 3ms/step - loss: 0.3920 - accuracy: 0.8381\n",
      "Epoch 23/100\n",
      "250/250 [==============================] - 1s 3ms/step - loss: 0.3920 - accuracy: 0.8384\n",
      "Epoch 24/100\n",
      "250/250 [==============================] - 1s 3ms/step - loss: 0.3918 - accuracy: 0.8381\n",
      "Epoch 25/100\n",
      "250/250 [==============================] - 1s 3ms/step - loss: 0.3918 - accuracy: 0.8390\n",
      "Epoch 26/100\n",
      "250/250 [==============================] - 1s 3ms/step - loss: 0.3920 - accuracy: 0.8382\n",
      "Epoch 27/100\n",
      "250/250 [==============================] - 1s 3ms/step - loss: 0.3920 - accuracy: 0.8380\n",
      "Epoch 28/100\n",
      "250/250 [==============================] - 1s 3ms/step - loss: 0.3920 - accuracy: 0.8380\n",
      "Epoch 29/100\n",
      "250/250 [==============================] - 1s 4ms/step - loss: 0.3916 - accuracy: 0.8382\n",
      "Epoch 30/100\n",
      "250/250 [==============================] - 1s 4ms/step - loss: 0.3919 - accuracy: 0.8370\n",
      "Epoch 31/100\n",
      "250/250 [==============================] - 1s 4ms/step - loss: 0.3916 - accuracy: 0.8381\n",
      "Epoch 32/100\n",
      "250/250 [==============================] - 1s 3ms/step - loss: 0.3919 - accuracy: 0.8371\n",
      "Epoch 33/100\n",
      "250/250 [==============================] - 1s 3ms/step - loss: 0.3916 - accuracy: 0.8375\n",
      "Epoch 34/100\n",
      "250/250 [==============================] - 1s 3ms/step - loss: 0.3919 - accuracy: 0.8372\n",
      "Epoch 35/100\n",
      "250/250 [==============================] - 1s 3ms/step - loss: 0.3915 - accuracy: 0.8382\n",
      "Epoch 36/100\n",
      "250/250 [==============================] - 1s 3ms/step - loss: 0.3919 - accuracy: 0.8355\n",
      "Epoch 37/100\n",
      "250/250 [==============================] - 1s 4ms/step - loss: 0.3918 - accuracy: 0.8378\n",
      "Epoch 38/100\n",
      "250/250 [==============================] - 1s 3ms/step - loss: 0.3918 - accuracy: 0.8384\n",
      "Epoch 39/100\n",
      "250/250 [==============================] - 1s 3ms/step - loss: 0.3918 - accuracy: 0.8361\n",
      "Epoch 40/100\n",
      "250/250 [==============================] - 1s 4ms/step - loss: 0.3918 - accuracy: 0.8374\n",
      "Epoch 41/100\n",
      "250/250 [==============================] - 1s 3ms/step - loss: 0.3920 - accuracy: 0.8379\n",
      "Epoch 42/100\n",
      "250/250 [==============================] - 1s 3ms/step - loss: 0.3919 - accuracy: 0.8374\n",
      "Epoch 43/100\n",
      "250/250 [==============================] - 1s 3ms/step - loss: 0.3916 - accuracy: 0.8371\n",
      "Epoch 44/100\n",
      "250/250 [==============================] - 1s 3ms/step - loss: 0.3916 - accuracy: 0.8370\n",
      "Epoch 45/100\n",
      "250/250 [==============================] - 1s 3ms/step - loss: 0.3917 - accuracy: 0.8369\n",
      "Epoch 46/100\n",
      "250/250 [==============================] - 1s 3ms/step - loss: 0.3918 - accuracy: 0.8364\n",
      "Epoch 47/100\n",
      "250/250 [==============================] - 1s 3ms/step - loss: 0.3917 - accuracy: 0.8376\n",
      "Epoch 48/100\n",
      "250/250 [==============================] - 1s 3ms/step - loss: 0.3916 - accuracy: 0.8381\n",
      "Epoch 49/100\n",
      "250/250 [==============================] - 1s 3ms/step - loss: 0.3916 - accuracy: 0.8382\n",
      "Epoch 50/100\n",
      "250/250 [==============================] - 1s 4ms/step - loss: 0.3915 - accuracy: 0.8380\n",
      "Epoch 51/100\n",
      "250/250 [==============================] - 1s 3ms/step - loss: 0.3918 - accuracy: 0.8385\n",
      "Epoch 52/100\n",
      "250/250 [==============================] - 1s 3ms/step - loss: 0.3918 - accuracy: 0.8388\n",
      "Epoch 53/100\n",
      "250/250 [==============================] - 1s 3ms/step - loss: 0.3914 - accuracy: 0.8390\n",
      "Epoch 54/100\n",
      "250/250 [==============================] - 1s 3ms/step - loss: 0.3913 - accuracy: 0.8380\n",
      "Epoch 55/100\n",
      "250/250 [==============================] - 1s 3ms/step - loss: 0.3916 - accuracy: 0.8370\n",
      "Epoch 56/100\n",
      "250/250 [==============================] - 1s 3ms/step - loss: 0.3917 - accuracy: 0.8376\n",
      "Epoch 57/100\n",
      "250/250 [==============================] - 1s 3ms/step - loss: 0.3913 - accuracy: 0.8371\n",
      "Epoch 58/100\n",
      "250/250 [==============================] - 1s 3ms/step - loss: 0.3917 - accuracy: 0.8366\n",
      "Epoch 59/100\n",
      "250/250 [==============================] - 1s 3ms/step - loss: 0.3914 - accuracy: 0.8371\n",
      "Epoch 60/100\n",
      "250/250 [==============================] - 1s 3ms/step - loss: 0.3913 - accuracy: 0.8370\n",
      "Epoch 61/100\n",
      "250/250 [==============================] - 1s 3ms/step - loss: 0.3914 - accuracy: 0.8372\n",
      "Epoch 62/100\n",
      "250/250 [==============================] - 1s 3ms/step - loss: 0.3916 - accuracy: 0.8379\n",
      "Epoch 63/100\n",
      "250/250 [==============================] - 1s 3ms/step - loss: 0.3915 - accuracy: 0.8367\n",
      "Epoch 64/100\n",
      "250/250 [==============================] - 1s 3ms/step - loss: 0.3913 - accuracy: 0.8375\n",
      "Epoch 65/100\n",
      "250/250 [==============================] - 1s 3ms/step - loss: 0.3913 - accuracy: 0.8384\n",
      "Epoch 66/100\n",
      "250/250 [==============================] - 1s 3ms/step - loss: 0.3913 - accuracy: 0.8371\n",
      "Epoch 67/100\n",
      "250/250 [==============================] - 1s 3ms/step - loss: 0.3913 - accuracy: 0.8379\n",
      "Epoch 68/100\n",
      "250/250 [==============================] - 1s 3ms/step - loss: 0.3915 - accuracy: 0.8378\n",
      "Epoch 69/100\n",
      "250/250 [==============================] - 1s 3ms/step - loss: 0.3911 - accuracy: 0.8385\n",
      "Epoch 70/100\n",
      "250/250 [==============================] - 1s 3ms/step - loss: 0.3913 - accuracy: 0.8382\n",
      "Epoch 71/100\n",
      "250/250 [==============================] - 1s 3ms/step - loss: 0.3914 - accuracy: 0.8379\n",
      "Epoch 72/100\n",
      "250/250 [==============================] - 1s 3ms/step - loss: 0.3915 - accuracy: 0.8381\n",
      "Epoch 73/100\n",
      "250/250 [==============================] - 1s 3ms/step - loss: 0.3911 - accuracy: 0.8369\n",
      "Epoch 74/100\n",
      "250/250 [==============================] - 1s 6ms/step - loss: 0.3913 - accuracy: 0.8385\n",
      "Epoch 75/100\n",
      "250/250 [==============================] - 1s 5ms/step - loss: 0.3913 - accuracy: 0.8378\n",
      "Epoch 76/100\n",
      "250/250 [==============================] - 1s 3ms/step - loss: 0.3913 - accuracy: 0.8369\n",
      "Epoch 77/100\n",
      "250/250 [==============================] - 1s 3ms/step - loss: 0.3914 - accuracy: 0.8369\n",
      "Epoch 78/100\n",
      "250/250 [==============================] - 1s 4ms/step - loss: 0.3916 - accuracy: 0.8371\n",
      "Epoch 79/100\n",
      "250/250 [==============================] - 1s 4ms/step - loss: 0.3915 - accuracy: 0.8360\n",
      "Epoch 80/100\n",
      "250/250 [==============================] - 1s 4ms/step - loss: 0.3911 - accuracy: 0.8388\n",
      "Epoch 81/100\n"
     ]
    },
    {
     "name": "stdout",
     "output_type": "stream",
     "text": [
      "250/250 [==============================] - 1s 4ms/step - loss: 0.3916 - accuracy: 0.8379\n",
      "Epoch 82/100\n",
      "250/250 [==============================] - 1s 4ms/step - loss: 0.3912 - accuracy: 0.8378\n",
      "Epoch 83/100\n",
      "250/250 [==============================] - 1s 4ms/step - loss: 0.3910 - accuracy: 0.8389\n",
      "Epoch 84/100\n",
      "250/250 [==============================] - 1s 4ms/step - loss: 0.3911 - accuracy: 0.8375\n",
      "Epoch 85/100\n",
      "250/250 [==============================] - 1s 4ms/step - loss: 0.3912 - accuracy: 0.8370\n",
      "Epoch 86/100\n",
      "250/250 [==============================] - 1s 4ms/step - loss: 0.3912 - accuracy: 0.8374\n",
      "Epoch 87/100\n",
      "250/250 [==============================] - 1s 4ms/step - loss: 0.3911 - accuracy: 0.8374\n",
      "Epoch 88/100\n",
      "250/250 [==============================] - 1s 4ms/step - loss: 0.3915 - accuracy: 0.8360\n",
      "Epoch 89/100\n",
      "250/250 [==============================] - 1s 4ms/step - loss: 0.3913 - accuracy: 0.8369\n",
      "Epoch 90/100\n",
      "214/250 [========================>.....] - ETA: 0s - loss: 0.3870 - accuracy: 0.8405"
     ]
    }
   ],
   "source": [
    "ann.fit(X_train, y_train, batch_size = 32, epochs = 100)\n"
   ]
  },
  {
   "cell_type": "markdown",
   "id": "3a74ee5a",
   "metadata": {},
   "source": [
    "# Evaluating the Model"
   ]
  },
  {
   "cell_type": "code",
   "execution_count": null,
   "id": "bda89804",
   "metadata": {},
   "outputs": [],
   "source": [
    "# the goal is to use this ANN model to predict the probability of the customer leaving the bank\n",
    "# Predicting the churn probability for single observations"
   ]
  },
  {
   "cell_type": "code",
   "execution_count": null,
   "id": "04647462",
   "metadata": {},
   "outputs": [],
   "source": [
    "#Geography: French\n",
    "#Credit Score:600\n",
    "#Gender: Male\n",
    "#Age: 40 years old\n",
    "#Tenure: 3 years\n",
    "#Balance: $60000\n",
    "#Number of Products: 2\n",
    "#with Credit Card\n",
    "#Active member\n",
    "#Estimated Salary: $50000"
   ]
  },
  {
   "cell_type": "code",
   "execution_count": null,
   "id": "f841f054",
   "metadata": {},
   "outputs": [],
   "source": [
    "print(ann.predict(sc.transform([[1, 0, 0, 600, 1, 40, 3, 60000, 2, 1, 1, 50000]])))\n",
    "print(ann.predict(sc.transform([[1, 0, 0, 600, 1, 40, 3, 60000, 2, 1, 1, 50000]])) > 0.5)\n"
   ]
  },
  {
   "cell_type": "code",
   "execution_count": null,
   "id": "a3d3ac3d",
   "metadata": {},
   "outputs": [],
   "source": [
    "# this customer has 4% chance to leave the bank\n",
    "\n",
    "\n",
    "#show the vector of predictions and real values\n",
    "#probabilities"
   ]
  },
  {
   "cell_type": "code",
   "execution_count": null,
   "id": "98cfcb65",
   "metadata": {},
   "outputs": [],
   "source": [
    "y_pred_prob = ann.predict(X_test)"
   ]
  },
  {
   "cell_type": "code",
   "execution_count": null,
   "id": "f975cba0",
   "metadata": {},
   "outputs": [],
   "source": [
    "#probabilities to binary"
   ]
  },
  {
   "cell_type": "code",
   "execution_count": null,
   "id": "32d0e98b",
   "metadata": {},
   "outputs": [],
   "source": [
    "y_pred = (y_pred_prob > 0.5)\n",
    "print(np.concatenate((y_pred.reshape(len(y_pred),1), y_test.reshape(len(y_test),1)), 1))\n"
   ]
  },
  {
   "cell_type": "code",
   "execution_count": null,
   "id": "b0b8489f",
   "metadata": {},
   "outputs": [],
   "source": [
    "#Confusion Matrix"
   ]
  },
  {
   "cell_type": "code",
   "execution_count": null,
   "id": "4b35a2f5",
   "metadata": {},
   "outputs": [],
   "source": [
    "confusion_matrix = confusion_matrix(y_test, y_pred)\n",
    "print(\"Confusion Matrix\", confusion_matrix)\n",
    "print(\"Accuracy Score\", accuracy_score(y_test, y_pred))\n"
   ]
  },
  {
   "cell_type": "code",
   "execution_count": null,
   "id": "94507928",
   "metadata": {},
   "outputs": [],
   "source": []
  }
 ],
 "metadata": {
  "kernelspec": {
   "display_name": "Python 3 (ipykernel)",
   "language": "python",
   "name": "python3"
  },
  "language_info": {
   "codemirror_mode": {
    "name": "ipython",
    "version": 3
   },
   "file_extension": ".py",
   "mimetype": "text/x-python",
   "name": "python",
   "nbconvert_exporter": "python",
   "pygments_lexer": "ipython3",
   "version": "3.8.10"
  }
 },
 "nbformat": 4,
 "nbformat_minor": 5
}
